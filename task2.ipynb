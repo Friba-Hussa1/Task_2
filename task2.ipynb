{
 "cells": [
  {
   "cell_type": "code",
   "execution_count": null,
   "id": "c7bcbb5a-7de0-4d90-b51f-ced1d30759a1",
   "metadata": {},
   "outputs": [],
   "source": [
    "import os\n",
    "import requests\n",
    "import re\n",
    "from bs4 import BeautifulSoup"
   ]
  },
  {
   "cell_type": "code",
   "execution_count": null,
   "id": "dac7117b-8f69-4005-a147-e478ad8fb835",
   "metadata": {},
   "outputs": [],
   "source": [
    "# Function to get the HTML source text of the Medium article\n",
    "def get_page(url):\n",
    "    # Handling possible error\n",
    "    if not re.match(r'https?://medium.com/', url):\n",
    "        print('Please enter a valid website, or make sure it is a Medium article')\n",
    "        return None\n",
    "    \n",
    "    # Call get method in requests object\n",
    "    res = requests.get(url)\n",
    "    res.raise_for_status()\n",
    "    soup = BeautifulSoup(res.text, 'html.parser')\n",
    "    return soup\n",
    "\n",
    "# Function to remove all the HTML tags and replace some with specific strings\n",
    "def clean(text):\n",
    "    rep = {\"<br>\": \"\\n\", \"<br/>\": \"\\n\", \"<li>\":  \"\\n\"}\n",
    "    rep = dict((re.escape(k), v) for k, v in rep.items()) \n",
    "    pattern = re.compile(\"|\".join(rep.keys()))\n",
    "    text = pattern.sub(lambda m: rep[re.escape(m.group(0))], text)\n",
    "    text = re.sub('\\<(.*?)\\>', '', text)\n",
    "    return text\n",
    "\n",
    "# Function to collect text from the parsed HTML\n",
    "def collect_text(soup, url):\n",
    "    text = f'url: {url}\\n\\n'\n",
    "    para_text = soup.find_all('p')\n",
    "    for para in para_text:\n",
    "        text += f\"{para.text}\\n\\n\"\n",
    "    return text\n",
    "\n",
    "# Function to save file in the current directory\n",
    "def save_file(text, url):\n",
    "    if not os.path.exists('./scraped_articles'):\n",
    "        os.mkdir('./scraped_articles')\n",
    "    name = url.split(\"/\")[-1]\n",
    "    fname = f'scraped_articles/{name}.txt'\n",
    "    with open(fname, 'w', encoding='utf-8') as f:\n",
    "        f.write(text)\n",
    "    print(f'File saved in directory {fname}')"
   ]
  },
  {
   "cell_type": "code",
   "execution_count": null,
   "id": "fb076382-d529-4828-9cd7-025acc808348",
   "metadata": {},
   "outputs": [],
   "source": [
    "# Specify the URL here\n",
    "url = \"https://medium.com/@subashgandyer/papa-what-is-a-neural-network-c5e5cc427c7\""
   ]
  },
  {
   "cell_type": "code",
   "execution_count": null,
   "id": "88efd4a7-db96-44b2-a21e-e07480826fe4",
   "metadata": {},
   "outputs": [],
   "source": [
    "soup = get_page(url)\n",
    "if soup:\n",
    "    text = collect_text(soup, url)\n",
    "    save_file(text, url)"
   ]
  }
 ],
 "metadata": {
  "kernelspec": {
   "display_name": "Python 3 (ipykernel)",
   "language": "python",
   "name": "python3"
  },
  "language_info": {
   "codemirror_mode": {
    "name": "ipython",
    "version": 3
   },
   "file_extension": ".py",
   "mimetype": "text/x-python",
   "name": "python",
   "nbconvert_exporter": "python",
   "pygments_lexer": "ipython3",
   "version": "3.12.7"
  }
 },
 "nbformat": 4,
 "nbformat_minor": 5
}
